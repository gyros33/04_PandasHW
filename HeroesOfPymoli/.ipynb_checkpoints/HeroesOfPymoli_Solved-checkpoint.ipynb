{
 "cells": [
  {
   "cell_type": "markdown",
   "metadata": {},
   "source": [
    "### Heroes Of Pymoli Data Analysis\n",
    "* Of the 1163 active players, the vast majority are male (84%). There also exists, a smaller, but notable proportion of female players (14%).\n",
    "\n",
    "* Our peak age demographic falls between 20-24 (44.8%) with secondary groups falling between 15-19 (18.60%) and 25-29 (13.4%).  \n",
    "-----"
   ]
  },
  {
   "cell_type": "markdown",
   "metadata": {},
   "source": [
    "### Note\n",
    "* Instructions have been included for each segment. You do not have to follow them exactly, but they are included to help you think through the steps."
   ]
  },
  {
   "cell_type": "code",
   "execution_count": null,
   "metadata": {},
   "outputs": [],
   "source": [
    "# Dependencies and Setup\n",
    "import pandas as pd\n",
    "import os\n",
    "\n",
    "# File to Load (Remember to Change These)\n",
    "file_to_load = os.path.join(\"Resources\",\"purchase_data.csv\")\n",
    "\n",
    "# Read Purchasing File and store into Pandas data frame\n",
    "purchase_data = pd.read_csv(file_to_load)\n",
    "purchase_data.head()"
   ]
  },
  {
   "cell_type": "markdown",
   "metadata": {},
   "source": [
    "## Player Count"
   ]
  },
  {
   "cell_type": "markdown",
   "metadata": {},
   "source": [
    "* Display the total number of players\n"
   ]
  },
  {
   "cell_type": "code",
   "execution_count": null,
   "metadata": {},
   "outputs": [],
   "source": [
    "num_players = len(purchase_data[\"SN\"].value_counts())\n",
    "print(f\"Total Number of Players: {num_players}\")"
   ]
  },
  {
   "cell_type": "markdown",
   "metadata": {},
   "source": [
    "## Purchasing Analysis (Total)"
   ]
  },
  {
   "cell_type": "markdown",
   "metadata": {},
   "source": [
    "* Run basic calculations to obtain number of unique items, average price, etc.\n",
    "\n",
    "\n",
    "* Create a summary data frame to hold the results\n",
    "\n",
    "\n",
    "* Optional: give the displayed data cleaner formatting\n",
    "\n",
    "\n",
    "* Display the summary data frame\n"
   ]
  },
  {
   "cell_type": "code",
   "execution_count": null,
   "metadata": {
    "scrolled": true
   },
   "outputs": [],
   "source": [
    "num_items = len(purchase_data[\"Item ID\"].value_counts())\n",
    "avg_purchase_price = round(purchase_data[\"Price\"].mean(),2)\n",
    "num_purchases = purchase_data[\"Item ID\"].count()\n",
    "total_revenue = purchase_data[\"Price\"].sum()\n",
    "\n",
    "purchase_analysis = pd.DataFrame()\n",
    "purchase_analysis[\"Number of Unique Items\"] = [num_items]\n",
    "purchase_analysis[\"Average Price\"] = [avg_purchase_price]\n",
    "purchase_analysis[\"Number of Purchases\"] = [num_purchases]\n",
    "purchase_analysis[\"Total Revenue\"] = [total_revenue]\n",
    "\n",
    "purchase_analysis[\"Average Price\"] = purchase_analysis[\"Average Price\"].map(\"${:.2f}\".format)\n",
    "purchase_analysis[\"Total Revenue\"] = purchase_analysis[\"Total Revenue\"].map(\"${:.2f}\".format)\n",
    "\n",
    "purchase_analysis"
   ]
  },
  {
   "cell_type": "markdown",
   "metadata": {},
   "source": [
    "## Gender Demographics"
   ]
  },
  {
   "cell_type": "markdown",
   "metadata": {},
   "source": [
    "* Percentage and Count of Male Players\n",
    "\n",
    "\n",
    "* Percentage and Count of Female Players\n",
    "\n",
    "\n",
    "* Percentage and Count of Other / Non-Disclosed\n",
    "\n",
    "\n"
   ]
  },
  {
   "cell_type": "code",
   "execution_count": null,
   "metadata": {},
   "outputs": [],
   "source": [
    "purchase_data_u = purchase_data.drop_duplicates(subset=['SN'], keep='first')\n",
    "gender_table = purchase_data_u.groupby(\"Gender\")\n",
    "gender_table_count = gender_table.agg({\"SN\":[\"count\"]})\n",
    "\n",
    "gender_table_count.columns = gender_table_count.columns.map(\"_\".join)\n",
    "gender_table_count = gender_table_count.rename(columns={\"SN_count\":\"Number of Players\"})\n",
    "\n",
    "gender_table_count[\"Percentage of Players\"] = round((gender_table_count[\"Number of Players\"] / num_players),4)*100\n",
    "gender_table_count[\"Percentage of Players\"] = gender_table_count[\"Percentage of Players\"].map(\"{:.2f}%\".format)\n",
    "\n",
    "gender_table_count\n",
    "\n"
   ]
  },
  {
   "cell_type": "markdown",
   "metadata": {},
   "source": [
    "\n",
    "## Purchasing Analysis (Gender)"
   ]
  },
  {
   "cell_type": "markdown",
   "metadata": {},
   "source": [
    "* Run basic calculations to obtain purchase count, avg. purchase price, avg. purchase total per person etc. by gender\n",
    "\n",
    "\n",
    "\n",
    "\n",
    "* Create a summary data frame to hold the results\n",
    "\n",
    "\n",
    "* Optional: give the displayed data cleaner formatting\n",
    "\n",
    "\n",
    "* Display the summary data frame"
   ]
  },
  {
   "cell_type": "code",
   "execution_count": null,
   "metadata": {},
   "outputs": [],
   "source": [
    "gender_table2 = purchase_data.groupby(\"Gender\")\n",
    "gender_table_ana = gender_table2.agg({\"SN\":[\"count\"],\"Price\":[\"mean\",\"sum\"]})\n",
    "gender_table_ana.columns = gender_table_ana.columns.map(\"_\".join)\n",
    "gender_table_ana = gender_table_ana.rename(columns={\"SN_count\":\"Purchase Count\",\n",
    "                                                        \"Price_mean\":\"Average Purchase Price\",\n",
    "                                                        \"Price_sum\":\"Total Purchase Value\"})\n",
    "\n",
    "gender_table_ana[\"Average Purchase Price\"] = round(gender_table_ana[\"Average Purchase Price\"],2)\n",
    "gender_table_ana[\"Avg Total Purchase per Person\"] = round(gender_table_ana[\"Total Purchase Value\"] / gender_table_count[\"Number of Players\"],2)\n",
    "\n",
    "gender_table_ana[\"Average Purchase Price\"] = gender_table_ana[\"Average Purchase Price\"].map(\"${:.2f}\".format)\n",
    "gender_table_ana[\"Total Purchase Value\"] = gender_table_ana[\"Total Purchase Value\"].map(\"${:.2f}\".format)\n",
    "gender_table_ana[\"Avg Total Purchase per Person\"] = gender_table_ana[\"Avg Total Purchase per Person\"].map(\"${:.2f}\".format)\n",
    "\n",
    "\n",
    "gender_table_ana"
   ]
  },
  {
   "cell_type": "markdown",
   "metadata": {},
   "source": [
    "## Age Demographics"
   ]
  },
  {
   "cell_type": "markdown",
   "metadata": {},
   "source": [
    "* Establish bins for ages\n",
    "\n",
    "\n",
    "* Categorize the existing players using the age bins. Hint: use pd.cut()\n",
    "\n",
    "\n",
    "* Calculate the numbers and percentages by age group\n",
    "\n",
    "\n",
    "* Create a summary data frame to hold the results\n",
    "\n",
    "\n",
    "* Optional: round the percentage column to two decimal points\n",
    "\n",
    "\n",
    "* Display Age Demographics Table\n"
   ]
  },
  {
   "cell_type": "code",
   "execution_count": null,
   "metadata": {},
   "outputs": [],
   "source": [
    "bins = [0, 9, 14, 19, 24, 29, 34, 39, 100]\n",
    "cat = [\"<10\",\"10-14\",\"15-19\",\"20-24\",\"25-29\",\"30-34\",\"35-39\",\"40+\"]\n",
    "\n",
    "purchase_data_u[\"Age Category\"] = pd.cut(purchase_data_u[\"Age\"], bins, labels=cat)\n",
    "purchase_data_age = purchase_data_u.groupby(\"Age Category\").agg({\"SN\":[\"count\"]})\n",
    "purchase_data_age.columns = [\"Total Count\"]\n",
    "purchase_data_age[\"Percentage of Players\"] = round((purchase_data_age[\"Total Count\"] / num_players),4)*100\n",
    "purchase_data_age[\"Percentage of Players\"] = purchase_data_age[\"Percentage of Players\"].map(\"{:.2f}%\".format)\n",
    "\n",
    "purchase_data_age"
   ]
  },
  {
   "cell_type": "markdown",
   "metadata": {},
   "source": [
    "## Purchasing Analysis (Age)"
   ]
  },
  {
   "cell_type": "markdown",
   "metadata": {},
   "source": [
    "* Bin the purchase_data data frame by age\n",
    "\n",
    "\n",
    "* Run basic calculations to obtain purchase count, avg. purchase price, avg. purchase total per person etc. in the table below\n",
    "\n",
    "\n",
    "* Create a summary data frame to hold the results\n",
    "\n",
    "\n",
    "* Optional: give the displayed data cleaner formatting\n",
    "\n",
    "\n",
    "* Display the summary data frame"
   ]
  },
  {
   "cell_type": "code",
   "execution_count": null,
   "metadata": {},
   "outputs": [],
   "source": [
    "bins = [0, 9, 14, 19, 24, 29, 34, 39, 100]\n",
    "cat = [\"<10\",\"10-14\",\"15-19\",\"20-24\",\"25-29\",\"30-34\",\"35-39\",\"40+\"]\n",
    "\n",
    "purchase_data[\"Age Category\"] = pd.cut(purchase_data[\"Age\"], bins, labels=cat)\n",
    "\n",
    "purchase_data_ageana = purchase_data.groupby(\"Age Category\").agg({\"SN\":[\"count\"],\"Price\":[\"mean\",\"sum\"]})\n",
    "\n",
    "purchase_data_ageana.columns = purchase_data_ageana.columns.map(\"_\".join)\n",
    "purchase_data_ageana = purchase_data_ageana.rename(columns={\"SN_count\":\"Purchase Count\",\n",
    "                                                        \"Price_mean\":\"Average Purchase Price\",\n",
    "                                                        \"Price_sum\":\"Total Purchase Value\"})\n",
    "\n",
    "purchase_data_ageana[\"Average Purchase Price\"] = round(purchase_data_ageana[\"Average Purchase Price\"],2)\n",
    "purchase_data_ageana[\"Avg Total Purchase per Person\"] = round(purchase_data_ageana[\"Total Purchase Value\"] / purchase_data_age[\"Total Count\"],2)\n",
    "\n",
    "purchase_data_ageana[\"Average Purchase Price\"] = purchase_data_ageana[\"Average Purchase Price\"].map(\"${:.2f}\".format)\n",
    "purchase_data_ageana[\"Total Purchase Value\"] = purchase_data_ageana[\"Total Purchase Value\"].map(\"${:.2f}\".format)\n",
    "purchase_data_ageana[\"Avg Total Purchase per Person\"] = purchase_data_ageana[\"Avg Total Purchase per Person\"].map(\"${:.2f}\".format)\n",
    "\n",
    "\n",
    "\n",
    "purchase_data_ageana"
   ]
  },
  {
   "cell_type": "markdown",
   "metadata": {},
   "source": [
    "## Top Spenders"
   ]
  },
  {
   "cell_type": "markdown",
   "metadata": {},
   "source": [
    "* Run basic calculations to obtain the results in the table below\n",
    "\n",
    "\n",
    "* Create a summary data frame to hold the results\n",
    "\n",
    "\n",
    "* Sort the total purchase value column in descending order\n",
    "\n",
    "\n",
    "* Optional: give the displayed data cleaner formatting\n",
    "\n",
    "\n",
    "* Display a preview of the summary data frame\n",
    "\n"
   ]
  },
  {
   "cell_type": "code",
   "execution_count": null,
   "metadata": {},
   "outputs": [],
   "source": [
    "top_spenders = purchase_data.groupby(\"SN\").agg({\"Purchase ID\":[\"count\"],\"Price\":[\"mean\",\"sum\"]})\n",
    "top_spenders.columns = top_spenders.columns.map(\"_\".join)\n",
    "\n",
    "top_spenders = top_spenders.rename(columns={\"Purchase ID_count\":\"Purchase Count\",\n",
    "                                                        \"Price_mean\":\"Average Purchase Price\",\n",
    "                                                        \"Price_sum\":\"Total Purchase Value\"})\n",
    "\n",
    "top_spenders = top_spenders.sort_values(\"Total Purchase Value\", ascending=False)\n",
    "\n",
    "top_spenders[\"Average Purchase Price\"] = top_spenders[\"Average Purchase Price\"].map(\"${:.2f}\".format)\n",
    "top_spenders[\"Total Purchase Value\"] = top_spenders[\"Total Purchase Value\"].map(\"${:.2f}\".format)\n",
    "\n",
    "top_spenders.head(5)\n"
   ]
  },
  {
   "cell_type": "markdown",
   "metadata": {},
   "source": [
    "## Most Popular Items"
   ]
  },
  {
   "cell_type": "markdown",
   "metadata": {},
   "source": [
    "* Retrieve the Item ID, Item Name, and Item Price columns\n",
    "\n",
    "\n",
    "* Group by Item ID and Item Name. Perform calculations to obtain purchase count, item price, and total purchase value\n",
    "\n",
    "\n",
    "* Create a summary data frame to hold the results\n",
    "\n",
    "\n",
    "* Sort the purchase count column in descending order\n",
    "\n",
    "\n",
    "* Optional: give the displayed data cleaner formatting\n",
    "\n",
    "\n",
    "* Display a preview of the summary data frame\n",
    "\n"
   ]
  },
  {
   "cell_type": "code",
   "execution_count": null,
   "metadata": {},
   "outputs": [],
   "source": [
    "pop_items = purchase_data.groupby([\"Item ID\",\"Item Name\"]).agg({\"Purchase ID\":[\"count\"],\"Price\":[\"max\",\"sum\"]})\n",
    "pop_items.columns = pop_items.columns.map(\"_\".join)\n",
    "\n",
    "pop_items = pop_items.rename(columns={\"Purchase ID_count\":\"Purchase Count\",\n",
    "                                      \"Price_max\":\"Item Price\",\n",
    "                                      \"Price_sum\":\"Total Purchase Value\"})\n",
    "\n",
    "pop_items = pop_items.sort_values(\"Purchase Count\", ascending=False)\n",
    "prof_items = pop_items.sort_values(\"Total Purchase Value\", ascending=False)\n",
    "\n",
    "pop_items[\"Item Price\"] = pop_items[\"Item Price\"].map(\"${:.2f}\".format)\n",
    "pop_items[\"Total Purchase Value\"] = pop_items[\"Total Purchase Value\"].map(\"${:.2f}\".format)\n",
    "\n",
    "pop_items.head(5)"
   ]
  },
  {
   "cell_type": "markdown",
   "metadata": {},
   "source": [
    "## Most Profitable Items"
   ]
  },
  {
   "cell_type": "markdown",
   "metadata": {},
   "source": [
    "* Sort the above table by total purchase value in descending order\n",
    "\n",
    "\n",
    "* Optional: give the displayed data cleaner formatting\n",
    "\n",
    "\n",
    "* Display a preview of the data frame\n",
    "\n"
   ]
  },
  {
   "cell_type": "code",
   "execution_count": null,
   "metadata": {
    "scrolled": true
   },
   "outputs": [],
   "source": [
    "prof_items[\"Item Price\"] = prof_items[\"Item Price\"].map(\"${:.2f}\".format)\n",
    "prof_items[\"Total Purchase Value\"] = prof_items[\"Total Purchase Value\"].map(\"${:.2f}\".format)\n",
    "\n",
    "prof_items.head(5)\n"
   ]
  },
  {
   "cell_type": "markdown",
   "metadata": {},
   "source": [
    "# Observations\n",
    "\n",
    "Despite most players being in the 20-24 age range, and by further extension 15-29, <10 and 35-39 year olds spend more money on average\n",
    "\n",
    "Females seem more willing to spend money on items than males (a sample size of only 15 for \"other\" gender doesn't give a good indication)\n",
    "\n",
    "The most number of items any player has purches is 5, most only purchase one, which seems to indicate that players aren't coming back often to puchase additional items"
   ]
  }
 ],
 "metadata": {
  "anaconda-cloud": {},
  "kernel_info": {
   "name": "python3"
  },
  "kernelspec": {
   "display_name": "Conda [PythonData]",
   "language": "python",
   "name": "pythondata"
  },
  "language_info": {
   "codemirror_mode": {
    "name": "ipython",
    "version": 3
   },
   "file_extension": ".py",
   "mimetype": "text/x-python",
   "name": "python",
   "nbconvert_exporter": "python",
   "pygments_lexer": "ipython3",
   "version": "3.7.3"
  },
  "latex_envs": {
   "LaTeX_envs_menu_present": true,
   "autoclose": false,
   "autocomplete": true,
   "bibliofile": "biblio.bib",
   "cite_by": "apalike",
   "current_citInitial": 1,
   "eqLabelWithNumbers": true,
   "eqNumInitial": 1,
   "hotkeys": {
    "equation": "Ctrl-E",
    "itemize": "Ctrl-I"
   },
   "labels_anchors": false,
   "latex_user_defs": false,
   "report_style_numbering": false,
   "user_envs_cfg": false
  },
  "nteract": {
   "version": "0.2.0"
  }
 },
 "nbformat": 4,
 "nbformat_minor": 2
}
